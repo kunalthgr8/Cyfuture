{
  "nbformat": 4,
  "nbformat_minor": 0,
  "metadata": {
    "colab": {
      "provenance": []
    },
    "kernelspec": {
      "name": "python3",
      "display_name": "Python 3"
    },
    "language_info": {
      "name": "python"
    }
  },
  "cells": [
    {
      "cell_type": "code",
      "execution_count": null,
      "metadata": {
        "colab": {
          "base_uri": "https://localhost:8080/"
        },
        "id": "iEw9tOjpndqs",
        "outputId": "7eaa1e2e-3329-4bf5-d7db-659b8a08bed1"
      },
      "outputs": [
        {
          "output_type": "stream",
          "name": "stdout",
          "text": [
            "face rec\t OpenCV , FaceNet , python\n"
          ]
        }
      ],
      "source": [
        "print(\"face rec\t OpenCV , FaceNet , python\")\n"
      ]
    }
  ]
}